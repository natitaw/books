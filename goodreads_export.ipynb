{
 "cells": [
  {
   "cell_type": "code",
   "execution_count": 168,
   "metadata": {},
   "outputs": [],
   "source": [
    "import pandas as pd\n",
    "import numpy as np\n",
    "from collections import Counter\n",
    "import os\n",
    "\n",
    "from IPython.display import clear_output\n"
   ]
  },
  {
   "cell_type": "code",
   "execution_count": 157,
   "metadata": {},
   "outputs": [
    {
     "data": {
      "text/html": [
       "<div>\n",
       "<style scoped>\n",
       "    .dataframe tbody tr th:only-of-type {\n",
       "        vertical-align: middle;\n",
       "    }\n",
       "\n",
       "    .dataframe tbody tr th {\n",
       "        vertical-align: top;\n",
       "    }\n",
       "\n",
       "    .dataframe thead th {\n",
       "        text-align: right;\n",
       "    }\n",
       "</style>\n",
       "<table border=\"1\" class=\"dataframe\">\n",
       "  <thead>\n",
       "    <tr style=\"text-align: right;\">\n",
       "      <th></th>\n",
       "      <th>0</th>\n",
       "      <th>1</th>\n",
       "    </tr>\n",
       "  </thead>\n",
       "  <tbody>\n",
       "    <tr>\n",
       "      <th>Book Id</th>\n",
       "      <td>174879</td>\n",
       "      <td>58255034</td>\n",
       "    </tr>\n",
       "    <tr>\n",
       "      <th>Title</th>\n",
       "      <td>On Becoming a Person: A Therapist's View of Ps...</td>\n",
       "      <td>Framers: Human Advantage in an Age of Technolo...</td>\n",
       "    </tr>\n",
       "    <tr>\n",
       "      <th>Author</th>\n",
       "      <td>Carl R. Rogers</td>\n",
       "      <td>Kenneth Cukier</td>\n",
       "    </tr>\n",
       "    <tr>\n",
       "      <th>Author l-f</th>\n",
       "      <td>Rogers, Carl R.</td>\n",
       "      <td>Cukier, Kenneth</td>\n",
       "    </tr>\n",
       "    <tr>\n",
       "      <th>Additional Authors</th>\n",
       "      <td>Peter D. Kramer</td>\n",
       "      <td>Viktor Mayer-Schoenberger, Francis de Véricourt</td>\n",
       "    </tr>\n",
       "    <tr>\n",
       "      <th>ISBN</th>\n",
       "      <td>=\"039575531X\"</td>\n",
       "      <td>=\"075355500X\"</td>\n",
       "    </tr>\n",
       "    <tr>\n",
       "      <th>ISBN13</th>\n",
       "      <td>=\"9780395755310\"</td>\n",
       "      <td>=\"9780753555002\"</td>\n",
       "    </tr>\n",
       "    <tr>\n",
       "      <th>My Rating</th>\n",
       "      <td>0</td>\n",
       "      <td>0</td>\n",
       "    </tr>\n",
       "    <tr>\n",
       "      <th>Average Rating</th>\n",
       "      <td>4.16</td>\n",
       "      <td>3.62</td>\n",
       "    </tr>\n",
       "    <tr>\n",
       "      <th>Publisher</th>\n",
       "      <td>Mariner Books</td>\n",
       "      <td>WH Allen</td>\n",
       "    </tr>\n",
       "    <tr>\n",
       "      <th>Binding</th>\n",
       "      <td>Paperback</td>\n",
       "      <td>Paperback</td>\n",
       "    </tr>\n",
       "    <tr>\n",
       "      <th>Number of Pages</th>\n",
       "      <td>448</td>\n",
       "      <td>NaN</td>\n",
       "    </tr>\n",
       "    <tr>\n",
       "      <th>Year Published</th>\n",
       "      <td>1995</td>\n",
       "      <td>2022</td>\n",
       "    </tr>\n",
       "    <tr>\n",
       "      <th>Original Publication Year</th>\n",
       "      <td>1961</td>\n",
       "      <td>2021</td>\n",
       "    </tr>\n",
       "    <tr>\n",
       "      <th>Date Read</th>\n",
       "      <td>NaN</td>\n",
       "      <td>NaN</td>\n",
       "    </tr>\n",
       "    <tr>\n",
       "      <th>Date Added</th>\n",
       "      <td>2019/08/30</td>\n",
       "      <td>2022/07/19</td>\n",
       "    </tr>\n",
       "    <tr>\n",
       "      <th>Bookshelves</th>\n",
       "      <td>fall-2019, currently-reading</td>\n",
       "      <td>to-read</td>\n",
       "    </tr>\n",
       "    <tr>\n",
       "      <th>Bookshelves with positions</th>\n",
       "      <td>fall-2019 (#32), currently-reading (#34)</td>\n",
       "      <td>to-read (#1123)</td>\n",
       "    </tr>\n",
       "    <tr>\n",
       "      <th>Exclusive Shelf</th>\n",
       "      <td>currently-reading</td>\n",
       "      <td>to-read</td>\n",
       "    </tr>\n",
       "    <tr>\n",
       "      <th>My Review</th>\n",
       "      <td>NaN</td>\n",
       "      <td>NaN</td>\n",
       "    </tr>\n",
       "    <tr>\n",
       "      <th>Spoiler</th>\n",
       "      <td>NaN</td>\n",
       "      <td>NaN</td>\n",
       "    </tr>\n",
       "    <tr>\n",
       "      <th>Private Notes</th>\n",
       "      <td>NaN</td>\n",
       "      <td>NaN</td>\n",
       "    </tr>\n",
       "    <tr>\n",
       "      <th>Read Count</th>\n",
       "      <td>1</td>\n",
       "      <td>0</td>\n",
       "    </tr>\n",
       "    <tr>\n",
       "      <th>Recommended For</th>\n",
       "      <td>NaN</td>\n",
       "      <td>NaN</td>\n",
       "    </tr>\n",
       "    <tr>\n",
       "      <th>Recommended By</th>\n",
       "      <td>NaN</td>\n",
       "      <td>NaN</td>\n",
       "    </tr>\n",
       "    <tr>\n",
       "      <th>Owned Copies</th>\n",
       "      <td>0</td>\n",
       "      <td>0</td>\n",
       "    </tr>\n",
       "    <tr>\n",
       "      <th>Original Purchase Date</th>\n",
       "      <td>NaN</td>\n",
       "      <td>NaN</td>\n",
       "    </tr>\n",
       "    <tr>\n",
       "      <th>Original Purchase Location</th>\n",
       "      <td>NaN</td>\n",
       "      <td>NaN</td>\n",
       "    </tr>\n",
       "    <tr>\n",
       "      <th>Condition</th>\n",
       "      <td>NaN</td>\n",
       "      <td>NaN</td>\n",
       "    </tr>\n",
       "    <tr>\n",
       "      <th>Condition Description</th>\n",
       "      <td>NaN</td>\n",
       "      <td>NaN</td>\n",
       "    </tr>\n",
       "    <tr>\n",
       "      <th>BCID</th>\n",
       "      <td>NaN</td>\n",
       "      <td>NaN</td>\n",
       "    </tr>\n",
       "  </tbody>\n",
       "</table>\n",
       "</div>"
      ],
      "text/plain": [
       "                                                                            0  \\\n",
       "Book Id                                                                174879   \n",
       "Title                       On Becoming a Person: A Therapist's View of Ps...   \n",
       "Author                                                         Carl R. Rogers   \n",
       "Author l-f                                                    Rogers, Carl R.   \n",
       "Additional Authors                                            Peter D. Kramer   \n",
       "ISBN                                                            =\"039575531X\"   \n",
       "ISBN13                                                       =\"9780395755310\"   \n",
       "My Rating                                                                   0   \n",
       "Average Rating                                                           4.16   \n",
       "Publisher                                                       Mariner Books   \n",
       "Binding                                                             Paperback   \n",
       "Number of Pages                                                           448   \n",
       "Year Published                                                           1995   \n",
       "Original Publication Year                                                1961   \n",
       "Date Read                                                                 NaN   \n",
       "Date Added                                                         2019/08/30   \n",
       "Bookshelves                                      fall-2019, currently-reading   \n",
       "Bookshelves with positions           fall-2019 (#32), currently-reading (#34)   \n",
       "Exclusive Shelf                                             currently-reading   \n",
       "My Review                                                                 NaN   \n",
       "Spoiler                                                                   NaN   \n",
       "Private Notes                                                             NaN   \n",
       "Read Count                                                                  1   \n",
       "Recommended For                                                           NaN   \n",
       "Recommended By                                                            NaN   \n",
       "Owned Copies                                                                0   \n",
       "Original Purchase Date                                                    NaN   \n",
       "Original Purchase Location                                                NaN   \n",
       "Condition                                                                 NaN   \n",
       "Condition Description                                                     NaN   \n",
       "BCID                                                                      NaN   \n",
       "\n",
       "                                                                            1  \n",
       "Book Id                                                              58255034  \n",
       "Title                       Framers: Human Advantage in an Age of Technolo...  \n",
       "Author                                                         Kenneth Cukier  \n",
       "Author l-f                                                    Cukier, Kenneth  \n",
       "Additional Authors            Viktor Mayer-Schoenberger, Francis de Véricourt  \n",
       "ISBN                                                            =\"075355500X\"  \n",
       "ISBN13                                                       =\"9780753555002\"  \n",
       "My Rating                                                                   0  \n",
       "Average Rating                                                           3.62  \n",
       "Publisher                                                            WH Allen  \n",
       "Binding                                                             Paperback  \n",
       "Number of Pages                                                           NaN  \n",
       "Year Published                                                           2022  \n",
       "Original Publication Year                                                2021  \n",
       "Date Read                                                                 NaN  \n",
       "Date Added                                                         2022/07/19  \n",
       "Bookshelves                                                           to-read  \n",
       "Bookshelves with positions                                    to-read (#1123)  \n",
       "Exclusive Shelf                                                       to-read  \n",
       "My Review                                                                 NaN  \n",
       "Spoiler                                                                   NaN  \n",
       "Private Notes                                                             NaN  \n",
       "Read Count                                                                  0  \n",
       "Recommended For                                                           NaN  \n",
       "Recommended By                                                            NaN  \n",
       "Owned Copies                                                                0  \n",
       "Original Purchase Date                                                    NaN  \n",
       "Original Purchase Location                                                NaN  \n",
       "Condition                                                                 NaN  \n",
       "Condition Description                                                     NaN  \n",
       "BCID                                                                      NaN  "
      ]
     },
     "execution_count": 157,
     "metadata": {},
     "output_type": "execute_result"
    }
   ],
   "source": [
    "df = pd.read_csv('goodreads_library_export.csv')\n",
    "df.head(2).T"
   ]
  },
  {
   "cell_type": "markdown",
   "metadata": {},
   "source": [
    "## Reviews"
   ]
  },
  {
   "cell_type": "code",
   "execution_count": 158,
   "metadata": {},
   "outputs": [
    {
     "data": {
      "text/html": [
       "<div>\n",
       "<style scoped>\n",
       "    .dataframe tbody tr th:only-of-type {\n",
       "        vertical-align: middle;\n",
       "    }\n",
       "\n",
       "    .dataframe tbody tr th {\n",
       "        vertical-align: top;\n",
       "    }\n",
       "\n",
       "    .dataframe thead th {\n",
       "        text-align: right;\n",
       "    }\n",
       "</style>\n",
       "<table border=\"1\" class=\"dataframe\">\n",
       "  <thead>\n",
       "    <tr style=\"text-align: right;\">\n",
       "      <th></th>\n",
       "      <th>Book Id</th>\n",
       "      <th>Title</th>\n",
       "      <th>Author</th>\n",
       "      <th>My Rating</th>\n",
       "      <th>My Review</th>\n",
       "      <th>Date Read</th>\n",
       "    </tr>\n",
       "  </thead>\n",
       "  <tbody>\n",
       "    <tr>\n",
       "      <th>59</th>\n",
       "      <td>855470</td>\n",
       "      <td>The Rise and Fall of the Third Reich</td>\n",
       "      <td>William L. Shirer</td>\n",
       "      <td>3</td>\n",
       "      <td>This was a very long book.</td>\n",
       "      <td>2022/01/07</td>\n",
       "    </tr>\n",
       "    <tr>\n",
       "      <th>105</th>\n",
       "      <td>49552</td>\n",
       "      <td>The Stranger</td>\n",
       "      <td>Albert Camus</td>\n",
       "      <td>4</td>\n",
       "      <td>Totally Bizarre.&lt;br/&gt;&lt;br/&gt;To be honest, I don'...</td>\n",
       "      <td>2021/04/27</td>\n",
       "    </tr>\n",
       "  </tbody>\n",
       "</table>\n",
       "</div>"
      ],
      "text/plain": [
       "     Book Id                                 Title             Author  \\\n",
       "59    855470  The Rise and Fall of the Third Reich  William L. Shirer   \n",
       "105    49552                          The Stranger       Albert Camus   \n",
       "\n",
       "     My Rating                                          My Review   Date Read  \n",
       "59           3                         This was a very long book.  2022/01/07  \n",
       "105          4  Totally Bizarre.<br/><br/>To be honest, I don'...  2021/04/27  "
      ]
     },
     "execution_count": 158,
     "metadata": {},
     "output_type": "execute_result"
    }
   ],
   "source": [
    "df_rev = df[~df['My Review'].isna()][['Book Id', 'Title', 'Author', 'My Rating', 'My Review'\n",
    "                                     , 'Date Read']]\n",
    "df_rev.head(2)"
   ]
  },
  {
   "cell_type": "code",
   "execution_count": 176,
   "metadata": {},
   "outputs": [
    {
     "data": {
      "text/plain": [
       "'My meditations grow deeper and deeper when I read Osho.'"
      ]
     },
     "execution_count": 176,
     "metadata": {},
     "output_type": "execute_result"
    }
   ],
   "source": [
    "_review"
   ]
  },
  {
   "cell_type": "code",
   "execution_count": 42,
   "metadata": {},
   "outputs": [
    {
     "data": {
      "text/plain": [
       "'/Users/natitaw/Documents/GitHub/books'"
      ]
     },
     "execution_count": 42,
     "metadata": {},
     "output_type": "execute_result"
    }
   ],
   "source": [
    "os.getcwd()"
   ]
  },
  {
   "cell_type": "code",
   "execution_count": 188,
   "metadata": {},
   "outputs": [
    {
     "name": "stdout",
     "output_type": "stream",
     "text": [
      "/Users/natitaw/Documents/GitHub/books/My Reviews/Book Reviews/Tantra: The Supreme Understanding - Discourses on the Tantric Way of Tilopa's Song of Mahamudra.md\n"
     ]
    }
   ],
   "source": [
    "\n",
    "import markdownify\n",
    "\n",
    "for _title, _author, _rating, _review, _date in zip(df_rev['Title'], df_rev['Author'],\n",
    "                                             df_rev['My Rating'], df_rev['My Review'],\n",
    "                                                   df_rev['Date Read']):\n",
    "    \n",
    "    clear_output(wait=True)\n",
    "    \n",
    "    author = _author\n",
    "    title = _title.replace(\"/\", \" \")\n",
    "    review = _review\n",
    "    rating = _rating\n",
    "    date = _date\n",
    "    \n",
    "    \n",
    "    ver1 = '''\n",
    "    \n",
    "    ## Title: {title}\n",
    "    ---\n",
    "    ### Author: {author}\n",
    "    #### Rating: {rating}/5\n",
    "    #### Date: {date}\n",
    "\n",
    "\n",
    "    ## Review\n",
    "    ---\n",
    "    {review}\n",
    "\n",
    "\n",
    "\n",
    "    ---\n",
    "    '''.format(author=_author, title=_title, \n",
    "               review=review, rating=_rating, date=_date)\n",
    "    \n",
    "    ver1 = markdownify.markdownify(ver1, heading_style=\"ATX\")\n",
    "\n",
    "    file_name = os.path.realpath(os.path.join(os.getcwd(), \n",
    "                os.path.dirname(f'My Reviews/Book Reviews//'))) + f'/{title}.md'\n",
    "    \n",
    "    print(file_name)\n",
    "    \n",
    "\n",
    "    with open(file_name,  'w') as f:\n",
    "        f.write(('[[My Book Reviews]]\\n' + ver1))\n",
    "        "
   ]
  },
  {
   "cell_type": "code",
   "execution_count": 182,
   "metadata": {},
   "outputs": [
    {
     "data": {
      "text/plain": [
       "11"
      ]
     },
     "execution_count": 182,
     "metadata": {},
     "output_type": "execute_result"
    }
   ],
   "source": [
    "len('<pre><code>')"
   ]
  },
  {
   "cell_type": "code",
   "execution_count": 154,
   "metadata": {},
   "outputs": [],
   "source": [
    "author = 'David Goggins'\n",
    "title = df_rev[df_rev['Author'] == author].Title\n",
    "review = df_rev[df_rev['Author'] == author]['My Review']\n",
    "rating = int(np.mean(df_rev[df_rev['Author'] == author]['My Rating']))"
   ]
  },
  {
   "cell_type": "code",
   "execution_count": 159,
   "metadata": {},
   "outputs": [
    {
     "data": {
      "text/html": [
       "<div>\n",
       "<style scoped>\n",
       "    .dataframe tbody tr th:only-of-type {\n",
       "        vertical-align: middle;\n",
       "    }\n",
       "\n",
       "    .dataframe tbody tr th {\n",
       "        vertical-align: top;\n",
       "    }\n",
       "\n",
       "    .dataframe thead th {\n",
       "        text-align: right;\n",
       "    }\n",
       "</style>\n",
       "<table border=\"1\" class=\"dataframe\">\n",
       "  <thead>\n",
       "    <tr style=\"text-align: right;\">\n",
       "      <th></th>\n",
       "      <th>Book Id</th>\n",
       "      <th>Title</th>\n",
       "      <th>Author</th>\n",
       "      <th>My Rating</th>\n",
       "      <th>My Review</th>\n",
       "      <th>Date Read</th>\n",
       "    </tr>\n",
       "  </thead>\n",
       "  <tbody>\n",
       "    <tr>\n",
       "      <th>106</th>\n",
       "      <td>36622739</td>\n",
       "      <td>The Courage to Be Disliked: The Japanese Pheno...</td>\n",
       "      <td>Ichiro Kishimi</td>\n",
       "      <td>5</td>\n",
       "      <td>This book is about the teachings of Alfred Adl...</td>\n",
       "      <td>2019/02/09</td>\n",
       "    </tr>\n",
       "  </tbody>\n",
       "</table>\n",
       "</div>"
      ],
      "text/plain": [
       "      Book Id                                              Title  \\\n",
       "106  36622739  The Courage to Be Disliked: The Japanese Pheno...   \n",
       "\n",
       "             Author  My Rating  \\\n",
       "106  Ichiro Kishimi          5   \n",
       "\n",
       "                                             My Review   Date Read  \n",
       "106  This book is about the teachings of Alfred Adl...  2019/02/09  "
      ]
     },
     "execution_count": 159,
     "metadata": {},
     "output_type": "execute_result"
    }
   ],
   "source": [
    "df_rev[df_rev['Author'] == author]"
   ]
  },
  {
   "cell_type": "code",
   "execution_count": 151,
   "metadata": {},
   "outputs": [
    {
     "data": {
      "text/plain": [
       "\"Can't Hurt Me: Master Your Mind and Defy the Odds\""
      ]
     },
     "execution_count": 151,
     "metadata": {},
     "output_type": "execute_result"
    }
   ],
   "source": [
    "title"
   ]
  },
  {
   "cell_type": "code",
   "execution_count": 156,
   "metadata": {},
   "outputs": [],
   "source": [
    "import markdown as md\n",
    "\n",
    "author = 'Ichiro Kishimi'\n",
    "title = df_rev[df_rev['Author'] == author].Title.item()\n",
    "review = df_rev[df_rev['Author'] == author]['My Review'].item()\n",
    "rating = df_rev[df_rev['Author'] == author]['My Rating'].item()\n",
    "ver1.format(rating=rating, review=review)\n",
    "\n",
    "ver1 = md.markdown('''\n",
    "# Title: {title}\n",
    "### Author: {author}\n",
    "#### Rating: {rating}/5\n",
    "#### Date: {date}\n",
    "\n",
    "---\n",
    "## Review\n",
    "---\n",
    "{review}\n",
    "\n",
    "\n",
    "\n",
    "---\n",
    "'''.format(rating=rating, review=review, author=author, title=title, date=date))\n"
   ]
  },
  {
   "cell_type": "code",
   "execution_count": 130,
   "metadata": {},
   "outputs": [
    {
     "name": "stdout",
     "output_type": "stream",
     "text": [
      "/Users/natitaw/Documents/GitHub/books/My Reviews/Book Reviews/Ichiro Kishimi.md\n"
     ]
    }
   ],
   "source": [
    "file_name = os.path.realpath(os.path.join(os.getcwd(), \n",
    "                os.path.dirname(f'My Reviews/Book Reviews//'))) + f'/{author}.md'\n",
    "print(file_name)\n",
    "with open(file_name,  'w') as f:\n",
    "          \n",
    "        f.write('[[My Book Reviews]]' + ver1)\n",
    "\n",
    "\n",
    "#         f.write(f'## Learning rate is {lr}\\n'.encode())\n",
    "#         f.write('## Init\\n'.encode())\n",
    "#         f.write('Add note about init\\n'.encode())\n",
    "        \n"
   ]
  },
  {
   "cell_type": "code",
   "execution_count": null,
   "metadata": {},
   "outputs": [],
   "source": [
    "\n",
    "\n",
    "ver2 = '''\n",
    "### Author: \n",
    "### Series: \n",
    "### Rating: {rating}/5\n",
    "\n",
    "---\n",
    "### Review\n",
    "---\n",
    "{review}\n",
    "\n",
    "---\n",
    "### Review 2\n",
    "{review2}\n",
    "\n",
    "---\n",
    "'''.format(rating=None, review=None, review2=None)"
   ]
  }
 ],
 "metadata": {
  "kernelspec": {
   "display_name": "Python 3.8.5 64-bit ('base': conda)",
   "language": "python",
   "name": "python385jvsc74a57bd0c327ec0832693a6cb3aa728b24c6c8cfc20795a56cc1fbb643655f7fa7aa24fb"
  },
  "language_info": {
   "codemirror_mode": {
    "name": "ipython",
    "version": 3
   },
   "file_extension": ".py",
   "mimetype": "text/x-python",
   "name": "python",
   "nbconvert_exporter": "python",
   "pygments_lexer": "ipython3",
   "version": "3.8.5"
  }
 },
 "nbformat": 4,
 "nbformat_minor": 4
}
